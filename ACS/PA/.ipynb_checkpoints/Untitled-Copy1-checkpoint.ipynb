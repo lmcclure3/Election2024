{
 "cells": [
  {
   "cell_type": "code",
   "execution_count": 41,
   "metadata": {},
   "outputs": [
    {
     "name": "stdout",
     "output_type": "stream",
     "text": [
      "Imported DP02\n"
     ]
    }
   ],
   "source": [
    "######\n",
    "import pandas as pd \n",
    "df = pd.read_excel('DP02_PA16.xlsx')\n",
    "dp02 = {}\n",
    "for x in range(1,18):\n",
    "    filename = \"DP02_PA%02d.xlsx\" % x\n",
    "    dp02[\"PA\"+str(x)] = pd.read_excel(filename)\n",
    "print(\"Imported DP02\")"
   ]
  },
  {
   "cell_type": "code",
   "execution_count": 51,
   "metadata": {
    "scrolled": true
   },
   "outputs": [
    {
     "name": "stdout",
     "output_type": "stream",
     "text": [
      "                                      Table ID: DP02 Unnamed: 1  \\\n",
      "0  Table Title: SELECTED SOCIAL CHARACTERISTICS I...        NaN   \n",
      "1  Source: U.S. Census Bureau, 2021 American Comm...        NaN   \n",
      "2  Geography: Congressional District 16 (118th Co...        NaN   \n",
      "3                                                NaN        NaN   \n",
      "4                                              Label   Estimate   \n",
      "\n",
      "        Unnamed: 2 Unnamed: 3               Unnamed: 4  \n",
      "0              NaN        NaN                      NaN  \n",
      "1              NaN        NaN                      NaN  \n",
      "2              NaN        NaN                      NaN  \n",
      "3              NaN        NaN                      NaN  \n",
      "4  Margin of Error    Percent  Percent Margin of Error  \n"
     ]
    }
   ],
   "source": [
    "df = pd.read_excel('DP02_PA16.xlsx')\n",
    "print(df.head())"
   ]
  },
  {
   "cell_type": "code",
   "execution_count": 45,
   "metadata": {},
   "outputs": [
    {
     "name": "stdout",
     "output_type": "stream",
     "text": [
      "Imported DP02\n",
      "Imported DP03\n",
      "Imported DP04\n",
      "Imported DP05\n"
     ]
    }
   ],
   "source": [
    "dps = {}\n",
    "for i in range(2,6):\n",
    "    dp_temp = {}\n",
    "    for x in range(1,18):\n",
    "        filename = \"DP%02d_PA%02d.xlsx\" %(i,x)\n",
    "        dp_temp[\"PA%02d\" %x] = pd.read_excel(filename)\n",
    "        dps[\"DP%02d\" %i] = dp_temp\n",
    "    print(\"Imported DP0\"+str(i))"
   ]
  },
  {
   "cell_type": "code",
   "execution_count": 49,
   "metadata": {},
   "outputs": [
    {
     "name": "stdout",
     "output_type": "stream",
     "text": [
      "High school graduate or higher\n",
      "PA01 \t 94.5\n",
      "PA02 \t 83.7\n",
      "PA03 \t 90\n",
      "PA04 \t 94.4\n",
      "PA05 \t 93.4\n",
      "PA06 \t 92.4\n",
      "PA07 \t 90.7\n",
      "PA08 \t 91.5\n",
      "PA09 \t 90.3\n",
      "PA10 \t 92\n",
      "PA11 \t 89\n",
      "PA12 \t 95\n",
      "PA13 \t 91.1\n",
      "PA14 \t 92.6\n",
      "PA15 \t 91.1\n",
      "PA16 \t 93.7\n",
      "PA17 \t 96\n"
     ]
    }
   ],
   "source": [
    "print(dps[\"DP02\"][\"PA01\"][\"Table ID: DP02\"][90])\n",
    "for x in range(1,18):\n",
    "    df = dps[\"DP02\"][\"PA%02d\" %x]\n",
    "    print(\"PA%02d\" % x ,\"\\t\",df[\"Unnamed: 3\"][90])"
   ]
  },
  {
   "cell_type": "code",
   "execution_count": null,
   "metadata": {},
   "outputs": [],
   "source": [
    "print(dps[\"DP02\"][\"PA01\"][\"Table ID: DP02\"][90])\n",
    "for x in range(1,18):\n",
    "    df = dps[\"DP02\"][\"PA%02d\" %x]\n",
    "    print(\"PA%02d\" % x ,\"\\t\",df[\"Unnamed: 3\"][90])"
   ]
  }
 ],
 "metadata": {
  "kernelspec": {
   "display_name": "Python 3",
   "language": "python",
   "name": "python3"
  },
  "language_info": {
   "codemirror_mode": {
    "name": "ipython",
    "version": 3
   },
   "file_extension": ".py",
   "mimetype": "text/x-python",
   "name": "python",
   "nbconvert_exporter": "python",
   "pygments_lexer": "ipython3",
   "version": "3.8.5"
  }
 },
 "nbformat": 4,
 "nbformat_minor": 4
}
